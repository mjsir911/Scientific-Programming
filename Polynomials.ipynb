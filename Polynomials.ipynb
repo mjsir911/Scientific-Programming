{
 "cells": [
  {
   "cell_type": "code",
   "execution_count": 1,
   "metadata": {
    "collapsed": true
   },
   "outputs": [],
   "source": [
    "#MIT License"
   ]
  },
  {
   "cell_type": "code",
   "execution_count": 2,
   "metadata": {
    "collapsed": true
   },
   "outputs": [],
   "source": [
    "import operator\n",
    "import collections\n",
    "import functools"
   ]
  },
  {
   "cell_type": "code",
   "execution_count": 3,
   "metadata": {
    "collapsed": true
   },
   "outputs": [],
   "source": [
    "from misc import return_type, memoize, MultiDispatch"
   ]
  },
  {
   "cell_type": "code",
   "execution_count": 44,
   "metadata": {},
   "outputs": [],
   "source": [
    "class Poly(tuple):\n",
    "    @MultiDispatch\n",
    "    def __new__(cls):\n",
    "        return super().__new__(cls)\n",
    "    @__new__.register\n",
    "    def __new__(cls, obj: object):\n",
    "        obj = list(obj)\n",
    "        if not obj:\n",
    "            return cls()\n",
    "        while obj[0] == 0:\n",
    "            obj.pop(0)\n",
    "            if not obj:\n",
    "                return cls()\n",
    "        return super().__new__(cls, obj)\n",
    "    @__new__.register\n",
    "    def __new__(cls, obj: collections.abc.Mapping):\n",
    "        #print(obj)\n",
    "        if not obj:\n",
    "            return cls()\n",
    "        return cls(obj.get(i, 0) for i in range(max(obj), -1, -1))\n",
    "    \n",
    "    @memoize\n",
    "    def todict(self):\n",
    "        print('hi')\n",
    "        return {e: c for e, c in enumerate(reversed(self)) if c}\n",
    "    \n",
    "    @return_type\n",
    "    def __add__(self, other):\n",
    "        together = collections.Counter(self.todict()) + collections.Counter(other.todict())\n",
    "        return together\n",
    "    \n",
    "    \n",
    "    @return_type\n",
    "    def __mul__(self, other):\n",
    "        total = [0] * (len(self) + len(other) - 1)\n",
    "        for i, val1 in self.todict().items():\n",
    "            for j, val2 in other.todict().items():\n",
    "                total[i + j] += val1 * val2\n",
    "        return reversed(total)\n",
    "            \n",
    "    def __str__(self):\n",
    "        l = {e: ('{:+}'.format(c)[0] + ' ', abs(c)) for e, c in self.todict().items()}\n",
    "        if not l:\n",
    "            return ''\n",
    "\n",
    "        largest = l[max(l)]\n",
    "        largest = largest[0][0] if largest[0][0] is '-' else '', largest[1]\n",
    "        l[max(l)] = largest\n",
    "\n",
    "        return ' '.join('{}{}{}{}'.format(\n",
    "            c[0],\n",
    "            c[1],\n",
    "            'x' if e > 0 else '',\n",
    "            ('^' + str(e)) if e > 1 else '')\n",
    "                       for e, c in sorted(\n",
    "                           l.items(),\n",
    "                           key=operator.itemgetter(0),\n",
    "                           reverse=True)\n",
    "                      )\n",
    "    \n",
    "    def __repr__(self):\n",
    "        return '{}({})'.format(type(self).__name__, super().__repr__())"
   ]
  },
  {
   "cell_type": "code",
   "execution_count": 33,
   "metadata": {
    "collapsed": true
   },
   "outputs": [],
   "source": [
    "import unittest\n",
    "import hypothesis\n",
    "import hypothesis.strategies as st"
   ]
  },
  {
   "cell_type": "code",
   "execution_count": 35,
   "metadata": {},
   "outputs": [
    {
     "name": "stderr",
     "output_type": "stream",
     "text": [
      ".......\n",
      "----------------------------------------------------------------------\n",
      "Ran 7 tests in 0.560s\n",
      "\n",
      "OK\n"
     ]
    },
    {
     "data": {
      "text/plain": [
       "<unittest.main.TestProgram at 0x7f1524038240>"
      ]
     },
     "execution_count": 35,
     "metadata": {},
     "output_type": "execute_result"
    }
   ],
   "source": [
    "liststrat = st.lists(st.integers() | st.floats())\n",
    "dictstrat = st.dictionaries(st.integers(min_value=0, max_value=20), st.integers() | st.floats(), max_size=10)\n",
    "class TestPoly(unittest.TestCase):\n",
    "    @hypothesis.given(liststrat)\n",
    "    def testAcceptsList(self, l):\n",
    "        try:\n",
    "            Poly(l)\n",
    "        except Exception as e:\n",
    "            self.fail(\"Poly() raised {} unexpectedly!\".format(e))\n",
    "    \n",
    "    @hypothesis.given(dictstrat)\n",
    "    def testAcceptsDict(self, d):\n",
    "        try:\n",
    "            d, Poly(d)\n",
    "        except Exception as e:\n",
    "            print(e)\n",
    "        \n",
    "    def testPretty(self):\n",
    "        pretty_tests = {\n",
    "            (4, 3, 2): '4x^2 + 3x + 2',\n",
    "            (2, 8, 3): '2x^2 + 8x + 3',\n",
    "            (8, 6, 7, 9): '8x^3 + 6x^2 + 7x + 9',\n",
    "            (7, -3, 5, -6): '7x^3 - 3x^2 + 5x - 6',\n",
    "            (5, 0, 2): '5x^2 + 2',\n",
    "            (-7, 0, 3, 5, 0, -2): '-7x^5 + 3x^3 + 5x^2 - 2',\n",
    "            (-7, 0, 0, 5, 0, 0): '-7x^5 + 5x^2',\n",
    "        }\n",
    "        for test, string in pretty_tests.items():\n",
    "            self.assertEqual(str(Poly(test)), string)\n",
    "            \n",
    "    def testEquality(self):\n",
    "        self.assertEqual(Poly(), Poly())\n",
    "        self.assertEqual(Poly((3, 4, 5)), Poly((3, 4, 5)))\n",
    "        self.assertNotEqual(Poly((5, 4, 3)), Poly((3, 4, 5)))\n",
    "        self.assertEqual(Poly((7, 8, 3, 2, 9)), Poly((7, 8, 3, 2, 9)))\n",
    "        \n",
    "    def testAdd(self):\n",
    "        self.assertEqual(Poly((3,)) + Poly((2,)), Poly((5,)))\n",
    "        self.assertEqual(Poly((3, 1, 2)) + Poly((1, 2, 3)), Poly((4, 3, 5)))\n",
    "        self.assertEqual(Poly((15, 16, 19, 18)) + Poly((11, 19)), Poly((15, 16, 30, 37)))\n",
    "    \n",
    "    def testMul(self):\n",
    "        self.assertEqual(Poly((4, -5)) * Poly((2, 3, -6)), Poly((8, 2, -39, 30)))\n",
    "        self.assertEqual(Poly((3, 2)) * Poly((4, -7, 5)), Poly((12, -13, 1, 10)))\n",
    "    \n",
    "    @hypothesis.given(dictstrat | liststrat)\n",
    "    def testDict(self, o1):\n",
    "        p1 = Poly(o1)\n",
    "        p2 = Poly(p1.todict())\n",
    "        self.assertEqual(p1, p2)\n",
    "        \n",
    "unittest.main(argv=['first-arg-is-ignored'], exit=False,)"
   ]
  },
  {
   "cell_type": "code",
   "execution_count": 39,
   "metadata": {},
   "outputs": [
    {
     "name": "stdout",
     "output_type": "stream",
     "text": [
      "1x^2 + 2x + 3\n",
      "4x^3 + 5x^2 + 6x + 7\n",
      "4x^3 + 6x^2 + 8x + 10\n",
      "4x^5 + 13x^4 + 28x^3 + 34x^2 + 32x + 21\n"
     ]
    }
   ],
   "source": [
    "p1 = Poly((1, 2, 3))\n",
    "p2 = Poly((4, 5, 6, 7))\n",
    "print(p1)\n",
    "print(p2)\n",
    "print(p1 + p2)\n",
    "print(p1 * p2)"
   ]
  },
  {
   "cell_type": "code",
   "execution_count": 24,
   "metadata": {},
   "outputs": [
    {
     "name": "stdout",
     "output_type": "stream",
     "text": [
      "4x^3 + 72\n"
     ]
    }
   ],
   "source": [
    "print(Poly(_))"
   ]
  },
  {
   "cell_type": "code",
   "execution_count": null,
   "metadata": {
    "collapsed": true
   },
   "outputs": [],
   "source": []
  }
 ],
 "metadata": {
  "kernelspec": {
   "display_name": "Python 3",
   "language": "python",
   "name": "python3"
  },
  "language_info": {
   "codemirror_mode": {
    "name": "ipython",
    "version": 3
   },
   "file_extension": ".py",
   "mimetype": "text/x-python",
   "name": "python",
   "nbconvert_exporter": "python",
   "pygments_lexer": "ipython3",
   "version": "3.4.2"
  }
 },
 "nbformat": 4,
 "nbformat_minor": 2
}
